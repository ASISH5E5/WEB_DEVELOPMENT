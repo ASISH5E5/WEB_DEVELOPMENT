{
  "nbformat": 4,
  "nbformat_minor": 0,
  "metadata": {
    "colab": {
      "provenance": [],
      "toc_visible": true,
      "authorship_tag": "ABX9TyMWRQm6B1ExkaaGElalnk09",
      "include_colab_link": true
    },
    "kernelspec": {
      "name": "python3",
      "display_name": "Python 3"
    },
    "language_info": {
      "name": "python"
    }
  },
  "cells": [
    {
      "cell_type": "markdown",
      "metadata": {
        "id": "view-in-github",
        "colab_type": "text"
      },
      "source": [
        "<a href=\"https://colab.research.google.com/github/ASISH5E5/webdev/blob/master/DWDM_External.ipynb\" target=\"_parent\"><img src=\"https://colab.research.google.com/assets/colab-badge.svg\" alt=\"Open In Colab\"/></a>"
      ]
    },
    {
      "cell_type": "code",
      "execution_count": null,
      "metadata": {
        "id": "G4DbTuzEGzWF"
      },
      "outputs": [],
      "source": [
        "# Question 1\n",
        "import pandas as pd\n",
        "from sklearn.datasets import load_breast_cancer\n",
        "breast_cancer = load_breast_cancer()\n",
        "data = pd.DataFrame(breast_cancer, columns =\n",
        "breast_cancer.feature_names)\n",
        "data['target'] = breast_cancer.target\n",
        "missing_values = data.isnull().sum()\n",
        "data.fillna(data.mean(), inplace=True)\n",
        "print(missing_values)"
      ]
    },
    {
      "cell_type": "code",
      "source": [
        "# Question 2\n",
        "import pandas as pd\n",
        "import numpy as np\n",
        "from sklearn.datasets import load_breast_cancer\n",
        "breast_cancer = load_breast_cancer()\n",
        "data = pd.DataFrame(breast_cancer.data, columns=\n",
        "breast_cancer.feature_names)\n",
        "data['target'] = breast_cancer.target\n",
        "data['radius_category']=pd.cut(data['mean radius'],bins=[0,10,20,30,np.inf],labels=['0-10','10-20','20-30','>30'])\n",
        "from sklearn.preprocessing import StandardScaler\n",
        "independent = ['mean radius', 'mean texture', 'mean perimeter', 'mean smoothness', 'mean compactness', 'mean concavity', 'mean concave points', 'mean symmetry', 'mean fractal dimension']\n",
        "scaler = StandardScaler()\n",
        "data[independent] = scaler.fit_transform(data[independent])\n",
        "data.head()\n",
        "from sklearn.model_selection import train_test_split\n",
        "X_train, X_test, y_train, y_test = train_test_split(data[independent],\n",
        "data['target'], test_size=0.25, random_state=33)\n"
      ],
      "metadata": {
        "id": "FBqPGyFXG14I"
      },
      "execution_count": 4,
      "outputs": []
    },
    {
      "cell_type": "code",
      "source": [
        "# Question 3\n",
        "from sklearn.datasets import load_iris\n",
        "import numpy as np\n",
        "import pandas as pd\n",
        "iris=load_iris()\n",
        "data=pd.DataFrame(iris.data,columns=iris.feature_names)\n",
        "data.head()\n",
        "x=data.drop('petal width (cm)',axis=1).values\n",
        "target='target'\n",
        "data['target']=iris.target\n",
        "from sklearn.metrics.pairwise import cosine_similarity,euclidean_distances,manhattan_distances\n",
        "cos_sim=cosine_similarity(data.iloc[[0]],data.iloc[[1]])\n",
        "euc_dis=euclidean_distances(data.iloc[[0]],data.iloc[[1]])\n",
        "man_dis=manhattan_distances(data.iloc[[0],:-1],data.iloc[[1],:-1])\n",
        "print('cosine_similarity',cos_sim)\n",
        "print('euclidean_distance',euc_dis)\n",
        "print('manhattan_distances',man_dis[0][0])\n",
        "from sklearn.metrics import jaccard_score\n",
        "# Assuming that column 4 contains the labels for the two samples\n",
        "labels_1 = data.iloc[0]['target']\n",
        "labels_2 = data.iloc[1]['target']\n",
        "# Convert labels to arrays or lists\n",
        "labels_1_array = [labels_1]\n",
        "labels_2_array = [labels_2]\n",
        "# Calculate Jaccard Score\n",
        "jac_sc = jaccard_score(labels_1_array, labels_2_array)\n",
        "print(jac_sc)\n",
        "from scipy.stats import pearsonr\n",
        "corr,_=pearsonr(data['petal length (cm)'],data['petal width (cm)'])\n",
        "print(corr)"
      ],
      "metadata": {
        "id": "BpfQfYyQG1wY"
      },
      "execution_count": null,
      "outputs": []
    },
    {
      "cell_type": "code",
      "source": [
        "# Question 4\n",
        "from sklearn.datasets import load_iris\n",
        "from sklearn.tree import DecisionTreeClassifier\n",
        "from sklearn.metrics import accuracy_score\n",
        "import pandas as pd\n",
        "import numpy as np\n",
        "\n",
        "# Load Iris dataset\n",
        "iris = load_iris()\n",
        "data = pd.DataFrame(iris.data, columns=iris.feature_names)\n",
        "data['target'] = iris.target\n",
        "\n",
        "# Splitting data into training and testing sets\n",
        "from sklearn.model_selection import train_test_split\n",
        "x_train, x_test, y_train, y_test = train_test_split(data.drop('target', axis=1), data['target'], test_size=0.3, random_state=42)\n",
        "\n",
        "# Initialize and fit the decision tree model\n",
        "dt_model = DecisionTreeClassifier()\n",
        "dt_model.fit(x_train, y_train)\n",
        "\n",
        "# Predicting on the test set and calculating accuracy\n",
        "y_pred = dt_model.predict(x_test)\n",
        "accuracy = accuracy_score(y_test, y_pred)\n",
        "print(\"Accuracy:\", accuracy)\n",
        "\n",
        "# Predicting on new data\n",
        "new_data = np.array([[5.0, 3.5, 1.3, 0.2]])\n",
        "new_pred = dt_model.predict(new_data)\n",
        "print(\"Predicted class for new data:\", new_pred)\n",
        "\n"
      ],
      "metadata": {
        "id": "5X3icfhaG1n5"
      },
      "execution_count": null,
      "outputs": []
    },
    {
      "cell_type": "code",
      "source": [
        "# Question 5\n",
        "from sklearn.datasets import load_digits\n",
        "from sklearn.linear_model import LinearRegression\n",
        "from sklearn.metrics import mean_squared_error, r2_score\n",
        "import pandas as pd\n",
        "import numpy as np\n",
        "digits =load_digits()\n",
        "data=pd.DataFrame(digits.data,columns=digits.feature_names)\n",
        "data['target']=digits.target\n",
        "from sklearn.model_selection import train_test_split\n",
        "x_train,x_test,y_train,y_test=train_test_split(data.drop('target', axis = 1),data['target'],test_size=0.3,random_state=42)\n",
        "dt_model = LinearRegression()\n",
        "dt_model.fit(x_train, y_train)\n",
        "y_pred = dt_model.predict(x_test)\n",
        "mse = mean_squared_error(y_test, y_pred)\n",
        "r2 = r2_score(y_test, y_pred)\n",
        "print(mse, r2)\n"
      ],
      "metadata": {
        "id": "f0Zu7ynPG1ke"
      },
      "execution_count": null,
      "outputs": []
    },
    {
      "cell_type": "code",
      "source": [
        "# Question 6\n",
        "from sklearn.datasets import load_breast_cancer\n",
        "from sklearn.naive_bayes import GaussianNB\n",
        "from sklearn.metrics import accuracy_score\n",
        "import pandas as pd\n",
        "import numpy as np\n",
        "breast_cancer = load_breast_cancer()\n",
        "data=pd.DataFrame(breast_cancer.data,columns=breast_cancer.feature_names)\n",
        "data['target']=breast_cancer.target\n",
        "from sklearn.model_selection import train_test_split\n",
        "x_train,x_test,y_train,y_test=train_test_split(data.drop('target', axis = 1),data['target'],test_size=0.3,random_state=42)\n",
        "dt_model = GaussianNB()\n",
        "dt_model.fit(x_train, y_train)\n",
        "y_pred = dt_model.predict(x_test)\n",
        "accuracy = accuracy_score(y_test, y_pred)\n",
        "print(accuracy)\n"
      ],
      "metadata": {
        "id": "XW-gztgxG1iK"
      },
      "execution_count": null,
      "outputs": []
    },
    {
      "cell_type": "code",
      "source": [
        "# Question 7\n",
        "import pandas as pd\n",
        "import matplotlib.pyplot as plt\n",
        "from sklearn.cluster import KMeans\n",
        "from sklearn.datasets import load_iris\n",
        "iris = load_iris()\n",
        "X = pd.DataFrame(iris.data, columns= iris.feature_names)\n",
        "X\n",
        "kmeans = KMeans(n_clusters=3)\n",
        "kmeans.fit(X)\n",
        "labels = kmeans.predict(X)\n",
        "#Write sepal length and sepal width names as it was in the dataset\n",
        "plt.scatter(X['sepal length (cm)'], X['sepal width (cm)'], c=labels)\n",
        "plt.xlabel('sepal_length')\n",
        "plt.ylabel('sepal_width')\n",
        "plt.show()\n"
      ],
      "metadata": {
        "id": "zPufl70bG1fd"
      },
      "execution_count": null,
      "outputs": []
    },
    {
      "cell_type": "code",
      "source": [
        "# Question 8\n",
        "import pandas as pd\n",
        "import matplotlib.pyplot as plt\n",
        "from sklearn.cluster import DBSCAN\n",
        "from sklearn.datasets import load_iris\n",
        "iris = load_iris()\n",
        "df = pd.DataFrame(iris.data, columns=iris.feature_names)\n",
        "X = df[['sepal length (cm)', 'sepal width (cm)']]\n",
        "dbscan = DBSCAN(eps = 0.5, min_samples=5)\n",
        "dbscan.fit(X)\n",
        "labels = dbscan.labels_\n",
        "plt.scatter(X['sepal length (cm)'], X['sepal width (cm)'], c = labels)\n",
        "plt.xlabel('sepal legth')\n",
        "plt.ylabel('sepal width')\n",
        "plt.show"
      ],
      "metadata": {
        "id": "CDSMWCYPG1c8"
      },
      "execution_count": null,
      "outputs": []
    },
    {
      "cell_type": "code",
      "source": [],
      "metadata": {
        "id": "RCEyLpwPG1af"
      },
      "execution_count": null,
      "outputs": []
    },
    {
      "cell_type": "code",
      "source": [],
      "metadata": {
        "id": "Vtu9LzhAG1YL"
      },
      "execution_count": null,
      "outputs": []
    },
    {
      "cell_type": "code",
      "source": [],
      "metadata": {
        "id": "3eFUQ0D8G1VT"
      },
      "execution_count": null,
      "outputs": []
    }
  ]
}